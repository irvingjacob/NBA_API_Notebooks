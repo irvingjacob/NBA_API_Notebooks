{
 "cells": [
  {
   "cell_type": "markdown",
   "id": "b33c337c",
   "metadata": {},
   "source": [
    "# NBA Player ID and Team ID Retriever\n",
    "Setup of IDs for players and teams that can be adapted for use for whatever player or team. Adapted from [nba_api](https://github.com/swar/nba_api/blob/master/docs/examples/Basics.ipynb) docs. <br>\n",
    "Cells can be ran in order. Will be prompted for which Player or Team desired. Type in a standard text string with the players full first and last name in standard case (Stephen Curry, Lebron James, etc.). For a team, insert the 3 digit abbreviation for the team. (GSW for the Golden State Warriors, PHI for the Philadelphia 76ers, etc.)"
   ]
  },
  {
   "cell_type": "code",
   "execution_count": 13,
   "id": "0d6ecb15",
   "metadata": {},
   "outputs": [
    {
     "name": "stdout",
     "output_type": "stream",
     "text": [
      "Please Input the Player Full Name or Team Abbreviation of the ID you would like to retrieve.\n",
      "PHI\n"
     ]
    }
   ],
   "source": [
    "print(\"Please Input the Player Full Name or Team Abbreviation of the ID you would like to retrieve.\")\n",
    "retrieve = input()"
   ]
  },
  {
   "cell_type": "markdown",
   "id": "3b4fd564",
   "metadata": {},
   "source": [
    "## If you're looking for a team, run the following cell. Skip to next for a player."
   ]
  },
  {
   "cell_type": "code",
   "execution_count": 14,
   "id": "e55d9524",
   "metadata": {},
   "outputs": [
    {
     "name": "stdout",
     "output_type": "stream",
     "text": [
      "1610612755\n"
     ]
    }
   ],
   "source": [
    "from nba_api.stats.static import teams\n",
    "nba_teams = teams.get_teams()\n",
    "team = [team for team in nba_teams if team['abbreviation'] == retrieve][0]\n",
    "team_id = team['id']\n",
    "print(team_id)"
   ]
  },
  {
   "cell_type": "markdown",
   "id": "d93b8cee",
   "metadata": {},
   "source": [
    "## Run the following cell to retrieve a player ID"
   ]
  },
  {
   "cell_type": "code",
   "execution_count": 12,
   "id": "cd528fe3",
   "metadata": {},
   "outputs": [
    {
     "name": "stdout",
     "output_type": "stream",
     "text": [
      "203954\n"
     ]
    }
   ],
   "source": [
    "from nba_api.stats.static import players\n",
    "nba_players = players.get_players()\n",
    "player = [player for player in nba_players if player['full_name'] == retrieve][0]\n",
    "playerID = player['id']\n",
    "print(playerID)"
   ]
  },
  {
   "cell_type": "code",
   "execution_count": null,
   "id": "43caa44d",
   "metadata": {},
   "outputs": [],
   "source": []
  }
 ],
 "metadata": {
  "kernelspec": {
   "display_name": "Python 3 (ipykernel)",
   "language": "python",
   "name": "python3"
  },
  "language_info": {
   "codemirror_mode": {
    "name": "ipython",
    "version": 3
   },
   "file_extension": ".py",
   "mimetype": "text/x-python",
   "name": "python",
   "nbconvert_exporter": "python",
   "pygments_lexer": "ipython3",
   "version": "3.8.5"
  }
 },
 "nbformat": 4,
 "nbformat_minor": 5
}
